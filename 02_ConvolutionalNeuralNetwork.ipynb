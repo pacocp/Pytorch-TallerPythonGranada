{
 "cells": [
  {
   "cell_type": "markdown",
   "metadata": {},
   "source": [
    "## Author: Francisco Carrillo-Perez"
   ]
  },
  {
   "cell_type": "markdown",
   "metadata": {},
   "source": [
    "# 1. Convolutional Neural Network\n",
    "\n",
    "In this notebook we are going to:\n",
    "   - Learn to code our first Convolutional Neural Network.\n",
    "   - Learn to read data with Pytorch Dataset function.\n",
    "   - Learn to train and test our model."
   ]
  },
  {
   "cell_type": "code",
   "execution_count": 1,
   "metadata": {
    "ExecuteTime": {
     "end_time": "2019-04-01T16:39:58.596708Z",
     "start_time": "2019-04-01T16:39:57.108442Z"
    }
   },
   "outputs": [],
   "source": [
    "# Importing mandatory libraries\n",
    "%matplotlib inline\n",
    "import torch\n",
    "import torch.nn as nn\n",
    "import torch.nn.functional as F\n",
    "import torch.optim as optim\n",
    "import torchvision\n",
    "from torchvision import transforms, datasets\n",
    "import os\n",
    "from torchvision.utils import save_image\n",
    "\n",
    "import numpy as np\n",
    "from IPython.core.debugger import set_trace\n",
    "import matplotlib.pyplot as plt"
   ]
  },
  {
   "cell_type": "markdown",
   "metadata": {},
   "source": [
    "## 1.1. Loading data\n",
    "We are going to make use of the MNIST dataset that is pre-loaded in Pytorch in order to save time. However we could make our own Dataset as a class. An example of it would be as follows:"
   ]
  },
  {
   "cell_type": "code",
   "execution_count": null,
   "metadata": {},
   "outputs": [],
   "source": [
    "from torch.utils import data\n",
    "\n",
    "class Dataset(data.Dataset):\n",
    "    'Characterizes a dataset for PyTorch'\n",
    "    def __init__(self, inputs, labels):\n",
    "        'Initialization'\n",
    "        self.labels = labels\n",
    "        self.inputs = inputs\n",
    "\n",
    "    def __len__(self):\n",
    "        'Denotes the total number of samples'\n",
    "        return len(self.inputs)\n",
    "        \n",
    "    def __getitem__(self, index):\n",
    "        'Generates one sample of data'\n",
    "        # Select sample\n",
    "        # Load data and get label\n",
    "        x = torch.from_numpy(self.inputs[index]).float()\n",
    "        y = torch.from_numpy(self.labels[index]).float()   \n",
    "        return x, y"
   ]
  },
  {
   "cell_type": "markdown",
   "metadata": {},
   "source": [
    "Now, we are going to use pre-loaded MNIST dataset in Pytorch."
   ]
  },
  {
   "cell_type": "code",
   "execution_count": 2,
   "metadata": {
    "ExecuteTime": {
     "end_time": "2019-04-01T16:40:01.565989Z",
     "start_time": "2019-04-01T16:40:01.552324Z"
    }
   },
   "outputs": [],
   "source": [
    "# Function to load MNIST dataset\n",
    "def mnist_dataset():\n",
    "    compose = transforms.Compose(\n",
    "        [transforms.Resize((32, 32)),\n",
    "        transforms.ToTensor(),\n",
    "        transforms.Normalize((0.5,), (0.5,))\n",
    "        ])\n",
    "    out_dir = \"./dataset\"\n",
    "    return (datasets.MNIST(root=out_dir, train=True, transform=compose, download=True),\n",
    "           datasets.MNIST(root=out_dir, train=False, transform=compose, download=True))"
   ]
  },
  {
   "cell_type": "code",
   "execution_count": 3,
   "metadata": {
    "ExecuteTime": {
     "end_time": "2019-04-01T16:40:02.556115Z",
     "start_time": "2019-04-01T16:40:02.055470Z"
    },
    "run_control": {
     "marked": false
    },
    "scrolled": true
   },
   "outputs": [],
   "source": [
    "# Load data\n",
    "data_train, data_test = mnist_dataset()"
   ]
  },
  {
   "cell_type": "code",
   "execution_count": 4,
   "metadata": {
    "ExecuteTime": {
     "end_time": "2019-04-01T16:40:04.981877Z",
     "start_time": "2019-04-01T16:40:04.173016Z"
    }
   },
   "outputs": [
    {
     "name": "stdout",
     "output_type": "stream",
     "text": [
      "Length of train set: 60000\n",
      "Length of test set: 10000\n",
      "<class 'torch.Tensor'> torch.Size([32, 32])\n"
     ]
    },
    {
     "data": {
      "image/png": "[encoded data removed]",
      "text/plain": [
       "<Figure size 432x288 with 1 Axes>"
      ]
     },
     "metadata": {
      "needs_background": "light"
     },
     "output_type": "display_data"
    },
    {
     "name": "stdout",
     "output_type": "stream",
     "text": [
      "<class 'torch.Tensor'> torch.Size([32, 32])\n"
     ]
    },
    {
     "data": {
      "image/png": "[encoded data removed]",
      "text/plain": [
       "<Figure size 432x288 with 1 Axes>"
      ]
     },
     "metadata": {
      "needs_background": "light"
     },
     "output_type": "display_data"
    }
   ],
   "source": [
    "print(\"Length of train set: {}\".format(len(data_train)))\n",
    "print(\"Length of test set: {}\".format(len(data_test)))\n",
    "\n",
    "# Getting one sample from train and test sets\n",
    "example_train_x, example_train_y = data_train[0]\n",
    "example_test_x, example_test_y = data_test[0]\n",
    "\n",
    "tensor_image = example_train_x.view(example_train_x.shape[1], example_train_x.shape[2])\n",
    "print(type(tensor_image), tensor_image.shape)\n",
    "\n",
    "plt.figure()\n",
    "plt.title(\"Example of train image labeled as {}\".format(example_train_y))\n",
    "plt.imshow(tensor_image, cmap=\"gray\")\n",
    "plt.show()\n",
    "\n",
    "tensor_image = example_test_x.view(example_test_x.shape[1], example_test_x.shape[2])\n",
    "print(type(tensor_image), tensor_image.shape)\n",
    "\n",
    "plt.figure()\n",
    "plt.title(\"Example of test image labeled as {}\".format(example_test_y))\n",
    "plt.imshow(tensor_image, cmap=\"gray\")\n",
    "plt.show()"
   ]
  },
  {
   "cell_type": "markdown",
   "metadata": {},
   "source": [
    "## 1.2. Define Pytorch Model\n",
    "\n",
    "In this section we are going to define our Neural Network architecture. We are going to use LeNet which was the first architecture presented for this dataset, by Yann Lecun. http://yann.lecun.com/exdb/lenet/index.html"
   ]
  },
  {
   "cell_type": "code",
   "execution_count": 12,
   "metadata": {
    "ExecuteTime": {
     "end_time": "2019-04-01T16:42:04.421249Z",
     "start_time": "2019-04-01T16:42:04.394447Z"
    }
   },
   "outputs": [],
   "source": [
    "class LeNet5(nn.Module):\n",
    "    \"\"\"\n",
    "    Input - 1x28x28\n",
    "    - C1\n",
    "        - Conv - 6@28x28 (5x5 kernel)\n",
    "        - ReLU\n",
    "        - Maxpool - 6@14x14 (2x2 kernel, stride 2) Subsampling\n",
    "    - C2\n",
    "        - Conv - 16@10x10 (5x5 kernel)\n",
    "        - ReLU\n",
    "        - Maxpool - 16@5x5 (2x2 kernel, stride 2) Subsampling\n",
    "    - C3\n",
    "        - C5 - 120@1x1 (5x5 kernel)\n",
    "        - ReLU\n",
    "    - FC\n",
    "        - Dense - 84\n",
    "        - ReLU\n",
    "    \n",
    "    - Output \n",
    "        - Dense - 10 (Output)\n",
    "        - Softmax\n",
    "    \"\"\"\n",
    "    def __init__(self):\n",
    "        super(LeNet5, self).__init__()\n",
    "        self.c1 = nn.Sequential(\n",
    "                nn.Conv2d(1, 6, kernel_size=(5,5)),\n",
    "                nn.ReLU(),\n",
    "                nn.MaxPool2d(kernel_size=(2, 2), stride=2)\n",
    "        )\n",
    "        self.c2 = nn.Sequential(\n",
    "            nn.Conv2d(6, 16, kernel_size=(5, 5)),\n",
    "            nn.ReLU(),\n",
    "            nn.MaxPool2d(kernel_size=(2, 2), stride=2)\n",
    "        )\n",
    "        self.c3 = nn.Sequential(\n",
    "            nn.Conv2d(16, 120, kernel_size=(5, 5)),\n",
    "            nn.ReLU()\n",
    "        )\n",
    "            \n",
    "        self.fc = nn.Sequential(\n",
    "            nn.Linear(120, 84),\n",
    "            nn.ReLU()\n",
    "        )\n",
    "        self.output = nn.Sequential(\n",
    "            nn.Linear(84, 10),\n",
    "            nn.LogSoftmax(dim=-1)\n",
    "        )\n",
    "\n",
    "    def forward(self, img):\n",
    "        x = self.c1(img)\n",
    "        x = self.c2(x)\n",
    "        x = self.c3(x)\n",
    "        x = x.view(x.size(0), -1)\n",
    "        x = self.fc(x)\n",
    "        out = self.output(x)\n",
    "        return out"
   ]
  },
  {
   "cell_type": "markdown",
   "metadata": {},
   "source": [
    "We can also code the model using Python's dict. This help us giving names to the layers for further usage. This is an example from https://github.com/activatedgeek/LeNet-5/blob/master/lenet.py ."
   ]
  },
  {
   "cell_type": "code",
   "execution_count": null,
   "metadata": {},
   "outputs": [],
   "source": [
    "from collections import OrderedDict\n",
    "\n",
    "\n",
    "class LeNet5V2(nn.Module):\n",
    "    \"\"\"\n",
    "    Input - 1x32x32\n",
    "    C1 - 6@28x28 (5x5 kernel)\n",
    "    tanh\n",
    "    S2 - 6@14x14 (2x2 kernel, stride 2) Subsampling\n",
    "    C3 - 16@10x10 (5x5 kernel, complicated shit)\n",
    "    tanh\n",
    "    S4 - 16@5x5 (2x2 kernel, stride 2) Subsampling\n",
    "    C5 - 120@1x1 (5x5 kernel)\n",
    "    F6 - 84\n",
    "    tanh\n",
    "    F7 - 10 (Output)\n",
    "    \"\"\"\n",
    "    def __init__(self):\n",
    "        super(LeNet5, self).__init__()\n",
    "\n",
    "        self.convnet = nn.Sequential(OrderedDict([\n",
    "            ('c1', nn.Conv2d(1, 6, kernel_size=(5, 5))),\n",
    "            ('relu1', nn.ReLU()),\n",
    "            ('s2', nn.MaxPool2d(kernel_size=(2, 2), stride=2)),\n",
    "            ('c3', nn.Conv2d(6, 16, kernel_size=(5, 5))),\n",
    "            ('relu3', nn.ReLU()),\n",
    "            ('s4', nn.MaxPool2d(kernel_size=(2, 2), stride=2)),\n",
    "            ('c5', nn.Conv2d(16, 120, kernel_size=(5, 5))),\n",
    "            ('relu5', nn.ReLU())\n",
    "        ]))\n",
    "\n",
    "        self.fc = nn.Sequential(OrderedDict([\n",
    "            ('f6', nn.Linear(120, 84)),\n",
    "            ('relu6', nn.ReLU()),\n",
    "            ('f7', nn.Linear(84, 10)),\n",
    "            ('sig7', nn.LogSoftmax(dim=-1))\n",
    "        ]))\n",
    "\n",
    "    def forward(self, img):\n",
    "        output = self.convnet(img)\n",
    "        output = output.view(img.size(0), -1)\n",
    "        output = self.fc(output)\n",
    "        return output"
   ]
  },
  {
   "cell_type": "markdown",
   "metadata": {},
   "source": [
    "### 1.2.1 Define optimizer and loss function\n",
    "\n",
    "In order to train the model we need to define its loss and the optimization algorithm we are going to use."
   ]
  },
  {
   "cell_type": "code",
   "execution_count": 17,
   "metadata": {
    "ExecuteTime": {
     "end_time": "2019-04-01T16:43:04.086816Z",
     "start_time": "2019-04-01T16:43:04.072906Z"
    }
   },
   "outputs": [],
   "source": [
    "model = LeNet5()\n",
    "# model.cuda()\n",
    "criterion = nn.CrossEntropyLoss()\n",
    "optimizer = optim.Adam(model.parameters(), lr=2e-3)"
   ]
  },
  {
   "cell_type": "markdown",
   "metadata": {},
   "source": [
    "### 1.2.2. Train and test functions\n",
    "\n",
    "In order to minimize code length we are going to implement a train and test functions."
   ]
  },
  {
   "cell_type": "code",
   "execution_count": 34,
   "metadata": {
    "ExecuteTime": {
     "end_time": "2019-04-01T17:17:31.942953Z",
     "start_time": "2019-04-01T17:17:31.910931Z"
    }
   },
   "outputs": [],
   "source": [
    "def train(model, data_loader, epochs, criterion, optimizer, verbose=False, gpu=False):\n",
    "    for epoch in range(epochs):\n",
    "        for i, (images, labels) in enumerate(data_loader):\n",
    "            if(gpu):\n",
    "              images, labels = (Variable(images).double()).cuda(), (Variable(labels).long()).cuda()\n",
    "            output = model(images)\n",
    "\n",
    "            loss = criterion(output, labels)\n",
    "            \n",
    "            if(i % 100 == 0 and verbose):\n",
    "                print('Train - Epoch {}, Batch: {}, Loss: {}' .format(epoch, i, loss))\n",
    "            \n",
    "            optimizer.zero_grad()\n",
    "            loss.backward()\n",
    "            optimizer.step()\n",
    "    return model\n",
    "\n",
    "def test(model, data_loader, criterion, optimizer, total_size, gpu=False):\n",
    "    total_correct = 0\n",
    "    avg_loss = 0.0\n",
    "    with torch.no_grad():\n",
    "        for i, (images, labels) in enumerate(data_loader):\n",
    "            if(gpu):\n",
    "              images, labels = (Variable(images).double()).cuda(), (Variable(labels).long()).cuda()\n",
    "            output = model(images)\n",
    "            avg_loss += criterion(output, labels).sum()\n",
    "            pred = output.detach().max(1)[1]\n",
    "            total_correct += pred.eq(labels.view_as(pred)).sum()\n",
    "\n",
    "        avg_loss /= len(data_loader)\n",
    "        acc = float(total_correct) / total_size\n",
    "        return acc, avg_loss"
   ]
  },
  {
   "cell_type": "code",
   "execution_count": 35,
   "metadata": {
    "ExecuteTime": {
     "end_time": "2019-04-01T17:17:38.244115Z",
     "start_time": "2019-04-01T17:17:33.050582Z"
    }
   },
   "outputs": [
    {
     "name": "stdout",
     "output_type": "stream",
     "text": [
      "0.991\n"
     ]
    }
   ],
   "source": [
    "# Create loader with data, so that we can iterate over it\n",
    "train_loader = torch.utils.data.DataLoader(data_train, batch_size=256, shuffle=True)\n",
    "test_loader = torch.utils.data.DataLoader(data_test, batch_size=1024, shuffle=True)\n",
    "\n",
    "test_size = len(data_test)\n",
    "# total number of epochs\n",
    "n_epochs = 16\n",
    "\n",
    "# model = train(model, train_loader, n_epochs, criterion, optimizer, verbose=True)\n",
    "acc, avg_loss = test(model, test_loader, criterion, optimizer, test_size, gpu=False)\n",
    "\n",
    "print(acc)"
   ]
  },
  {
   "cell_type": "code",
   "execution_count": null,
   "metadata": {},
   "outputs": [],
   "source": []
  },
  {
   "cell_type": "code",
   "execution_count": null,
   "metadata": {},
   "outputs": [],
   "source": []
  }
 ],
 "metadata": {
  "kernelspec": {
   "display_name": "Python 3",
   "language": "python",
   "name": "python3"
  },
  "language_info": {
   "codemirror_mode": {
    "name": "ipython",
    "version": 3
   },
   "file_extension": ".py",
   "mimetype": "text/x-python",
   "name": "python",
   "nbconvert_exporter": "python",
   "pygments_lexer": "ipython3",
   "version": "3.7.3"
  }
 },
 "nbformat": 4,
 "nbformat_minor": 2
}
