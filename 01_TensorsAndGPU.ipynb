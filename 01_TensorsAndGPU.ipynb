{
 "cells": [
  {
   "cell_type": "markdown",
   "metadata": {},
   "source": [
    "## Author: Francisco Carrillo-Perez"
   ]
  },
  {
   "cell_type": "markdown",
   "metadata": {},
   "source": [
    "# 1. Tensors and using the GPU\n",
    "\n",
    "In this notebook we are going to:\n",
    "  - Introduce what tensors are.\n",
    "  - Explain the main characteristics of Pytorch.\n",
    "  - Usage of GPU in Pytorch\n",
    "  "
   ]
  },
  {
   "cell_type": "markdown",
   "metadata": {},
   "source": [
    "## 1.1 Tensors\n",
    "\n",
    "Tensors are the atoms of Deep Learning. If you are familiar with Python libraries for working with data, they are numpy arrays. Specifically, they are multi-dimensional matrixes containing elements of a single data type. With them we can perform any type of operation."
   ]
  },
  {
   "cell_type": "code",
   "execution_count": 1,
   "metadata": {
    "ExecuteTime": {
     "end_time": "2019-04-01T14:49:19.500252Z",
     "start_time": "2019-04-01T14:49:17.528785Z"
    }
   },
   "outputs": [],
   "source": [
    "# Importing mandatory libraries\n",
    "%matplotlib inline\n",
    "import torch\n",
    "import torch.nn as nn\n",
    "import torch.nn.functional as F\n",
    "import torch.optim as optim\n",
    "import torchvision\n",
    "\n",
    "import numpy as np\n",
    "from IPython.core.debugger import set_trace"
   ]
  },
  {
   "cell_type": "code",
   "execution_count": 2,
   "metadata": {
    "ExecuteTime": {
     "end_time": "2019-04-01T14:50:06.261984Z",
     "start_time": "2019-04-01T14:50:06.245361Z"
    }
   },
   "outputs": [
    {
     "data": {
      "text/plain": [
       "array([[1., 0.],\n",
       "       [0., 1.]])"
      ]
     },
     "execution_count": 2,
     "metadata": {},
     "output_type": "execute_result"
    }
   ],
   "source": [
    "# Numpy eye return a 2-D array with ones on the diagonal and zeros elsewhere.\n",
    "np.eye(2)"
   ]
  },
  {
   "cell_type": "code",
   "execution_count": 3,
   "metadata": {
    "ExecuteTime": {
     "end_time": "2019-04-01T14:50:35.731236Z",
     "start_time": "2019-04-01T14:50:35.551840Z"
    }
   },
   "outputs": [
    {
     "data": {
      "text/plain": [
       "tensor([[1., 0.],\n",
       "        [0., 1.]])"
      ]
     },
     "execution_count": 3,
     "metadata": {},
     "output_type": "execute_result"
    }
   ],
   "source": [
    "# Torch eye returns exactly the same\n",
    "torch.eye(2)"
   ]
  },
  {
   "cell_type": "code",
   "execution_count": 4,
   "metadata": {
    "ExecuteTime": {
     "end_time": "2019-04-01T14:50:55.845164Z",
     "start_time": "2019-04-01T14:50:55.824445Z"
    }
   },
   "outputs": [
    {
     "data": {
      "text/plain": [
       "array([[0.2558086 , 0.74128062, 0.25965641],\n",
       "       [0.09936786, 0.1673001 , 0.55690701],\n",
       "       [0.2664226 , 0.48058196, 0.82787683],\n",
       "       [0.72053646, 0.6029763 , 0.55256614],\n",
       "       [0.22927234, 0.80039224, 0.60043843]])"
      ]
     },
     "execution_count": 4,
     "metadata": {},
     "output_type": "execute_result"
    }
   ],
   "source": [
    "# numpy\n",
    "np.random.random((5, 3))"
   ]
  },
  {
   "cell_type": "code",
   "execution_count": 5,
   "metadata": {
    "ExecuteTime": {
     "end_time": "2019-04-01T14:51:15.696736Z",
     "start_time": "2019-04-01T14:51:15.679882Z"
    }
   },
   "outputs": [
    {
     "data": {
      "text/plain": [
       "tensor([[0.0597, 0.9416, 0.1116],\n",
       "        [0.9945, 0.4218, 0.4852],\n",
       "        [0.9088, 0.5455, 0.2470],\n",
       "        [0.9104, 0.5235, 0.7916],\n",
       "        [0.6343, 0.3592, 0.6058]])"
      ]
     },
     "execution_count": 5,
     "metadata": {},
     "output_type": "execute_result"
    }
   ],
   "source": [
    "# torch\n",
    "torch.rand((5, 3))"
   ]
  },
  {
   "cell_type": "code",
   "execution_count": 8,
   "metadata": {
    "ExecuteTime": {
     "end_time": "2019-04-01T14:55:32.703317Z",
     "start_time": "2019-04-01T14:55:32.693319Z"
    }
   },
   "outputs": [
    {
     "data": {
      "text/plain": [
       "array([[1.40672779, 0.71710621],\n",
       "       [1.29692769, 1.38485705]])"
      ]
     },
     "execution_count": 8,
     "metadata": {},
     "output_type": "execute_result"
    }
   ],
   "source": [
    "X = np.random.random((2,2))\n",
    "Y = np.random.random((2,2))\n",
    "Z_numpy = X + Y\n",
    "Z_numpy"
   ]
  },
  {
   "cell_type": "code",
   "execution_count": 9,
   "metadata": {
    "ExecuteTime": {
     "end_time": "2019-04-01T14:55:34.729644Z",
     "start_time": "2019-04-01T14:55:34.716002Z"
    }
   },
   "outputs": [
    {
     "data": {
      "text/plain": [
       "tensor([[0.6548, 1.5534],\n",
       "        [0.9509, 1.1317]])"
      ]
     },
     "execution_count": 9,
     "metadata": {},
     "output_type": "execute_result"
    }
   ],
   "source": [
    "# Summing operations\n",
    "X = torch.rand((2,2))\n",
    "Y = torch.rand(2,2)\n",
    "Z_torch = X + Y\n",
    "Z_torch"
   ]
  },
  {
   "cell_type": "code",
   "execution_count": 10,
   "metadata": {
    "ExecuteTime": {
     "end_time": "2019-04-01T14:56:34.370138Z",
     "start_time": "2019-04-01T14:56:34.342595Z"
    }
   },
   "outputs": [
    {
     "name": "stdout",
     "output_type": "stream",
     "text": [
      "[[0.65484285 1.5533524 ]\n",
      " [0.95094985 1.1317469 ]]\n",
      "tensor([[1.4067, 0.7171],\n",
      "        [1.2969, 1.3849]], dtype=torch.float64)\n"
     ]
    }
   ],
   "source": [
    "# We can perform conversions from tensors to numpy an vice versa\n",
    "Z_tonumpy = Z_torch.numpy()\n",
    "print(Z_tonumpy)\n",
    "Z_totensor = torch.from_numpy(Z_numpy)\n",
    "print(Z_totensor)"
   ]
  },
  {
   "cell_type": "markdown",
   "metadata": {},
   "source": [
    "## 1.2 GPU"
   ]
  },
  {
   "cell_type": "markdown",
   "metadata": {},
   "source": [
    "I've heard that Deep Learning needs a ton of computation. How can I use my brand new GPU with Pytorch?"
   ]
  },
  {
   "cell_type": "code",
   "execution_count": 11,
   "metadata": {
    "ExecuteTime": {
     "end_time": "2019-04-01T14:57:41.055394Z",
     "start_time": "2019-04-01T14:57:41.044225Z"
    }
   },
   "outputs": [
    {
     "data": {
      "text/plain": [
       "device(type='cpu')"
      ]
     },
     "execution_count": 11,
     "metadata": {},
     "output_type": "execute_result"
    }
   ],
   "source": [
    "device = torch.device(\"cuda:0\" if torch.cuda.is_available() else \"cpu\")\n",
    "device"
   ]
  },
  {
   "cell_type": "markdown",
   "metadata": {},
   "source": [
    "You can move the tensor to the GPU if available as follows:"
   ]
  },
  {
   "cell_type": "code",
   "execution_count": 12,
   "metadata": {
    "ExecuteTime": {
     "end_time": "2019-04-01T14:58:17.663831Z",
     "start_time": "2019-04-01T14:58:17.650293Z"
    }
   },
   "outputs": [
    {
     "data": {
      "text/plain": [
       "tensor([[1., 0., 0.],\n",
       "        [0., 1., 0.],\n",
       "        [0., 0., 1.]])"
      ]
     },
     "execution_count": 12,
     "metadata": {},
     "output_type": "execute_result"
    }
   ],
   "source": [
    "data = torch.eye(3)\n",
    "data.to(device)"
   ]
  }
 ],
 "metadata": {
  "kernelspec": {
   "display_name": "Python 3",
   "language": "python",
   "name": "python3"
  },
  "language_info": {
   "codemirror_mode": {
    "name": "ipython",
    "version": 3
   },
   "file_extension": ".py",
   "mimetype": "text/x-python",
   "name": "python",
   "nbconvert_exporter": "python",
   "pygments_lexer": "ipython3",
   "version": "3.7.3"
  }
 },
 "nbformat": 4,
 "nbformat_minor": 2
}
